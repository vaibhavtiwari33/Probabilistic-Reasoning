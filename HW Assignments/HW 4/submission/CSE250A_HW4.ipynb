{
 "cells": [
  {
   "cell_type": "markdown",
   "metadata": {},
   "source": [
    "## Q) 4.3"
   ]
  },
  {
   "cell_type": "code",
   "execution_count": 173,
   "metadata": {},
   "outputs": [],
   "source": [
    "import math\n",
    "from matplotlib import pyplot as plt\n",
    "import numpy as np\n",
    "import pandas as pd"
   ]
  },
  {
   "cell_type": "code",
   "execution_count": 174,
   "metadata": {},
   "outputs": [],
   "source": [
    "vocab_file = 'hw4_vocab.txt'\n",
    "unigram_file = 'hw4_unigram.txt'\n",
    "bigram_file = 'hw4_bigram.txt'"
   ]
  },
  {
   "cell_type": "code",
   "execution_count": 175,
   "metadata": {},
   "outputs": [],
   "source": [
    "def getContents(filename):\n",
    "    contents = []\n",
    "    with open(filename) as f:\n",
    "        for line in f:\n",
    "            contents.append(line.strip('\\n'))\n",
    "            \n",
    "    return contents"
   ]
  },
  {
   "cell_type": "code",
   "execution_count": 176,
   "metadata": {},
   "outputs": [],
   "source": [
    "vocabs = getContents(vocab_file)\n",
    "unigram = getContents(unigram_file)\n",
    "bigrams = getContents(bigram_file)"
   ]
  },
  {
   "cell_type": "code",
   "execution_count": 177,
   "metadata": {},
   "outputs": [],
   "source": [
    "singleCount = {}\n",
    "\n",
    "for i in range(len(vocabs)):\n",
    "    singleCount[vocabs[i]] = int(unigram[i])"
   ]
  },
  {
   "cell_type": "code",
   "execution_count": 178,
   "metadata": {},
   "outputs": [],
   "source": [
    "doubleCount = {}\n",
    "doubleCountList = []\n",
    "for bigram in bigrams:\n",
    "    splitBigram = bigram.split()\n",
    "    word1 = vocabs[int(splitBigram[0]) - 1]\n",
    "    word2 = vocabs[int(splitBigram[1]) - 1]\n",
    "    count = int(splitBigram[2])\n",
    "    doubleCount[(word1, word2)] = count\n",
    "    doubleCountList.append((word1, word2, count))"
   ]
  },
  {
   "cell_type": "markdown",
   "metadata": {},
   "source": [
    "### a)"
   ]
  },
  {
   "cell_type": "code",
   "execution_count": 179,
   "metadata": {},
   "outputs": [],
   "source": [
    "singleWordCountDf = pd.DataFrame(list(singleCount.items()), columns=['word', 'count'])"
   ]
  },
  {
   "cell_type": "code",
   "execution_count": 180,
   "metadata": {},
   "outputs": [
    {
     "data": {
      "text/html": [
       "<div>\n",
       "<style scoped>\n",
       "    .dataframe tbody tr th:only-of-type {\n",
       "        vertical-align: middle;\n",
       "    }\n",
       "\n",
       "    .dataframe tbody tr th {\n",
       "        vertical-align: top;\n",
       "    }\n",
       "\n",
       "    .dataframe thead th {\n",
       "        text-align: right;\n",
       "    }\n",
       "</style>\n",
       "<table border=\"1\" class=\"dataframe\">\n",
       "  <thead>\n",
       "    <tr style=\"text-align: right;\">\n",
       "      <th></th>\n",
       "      <th>word</th>\n",
       "      <th>count</th>\n",
       "      <th>T</th>\n",
       "      <th>P_u_w</th>\n",
       "    </tr>\n",
       "  </thead>\n",
       "  <tbody>\n",
       "    <tr>\n",
       "      <th>53</th>\n",
       "      <td>MILLION</td>\n",
       "      <td>169479</td>\n",
       "      <td>81764926</td>\n",
       "      <td>0.002073</td>\n",
       "    </tr>\n",
       "    <tr>\n",
       "      <th>68</th>\n",
       "      <td>MORE</td>\n",
       "      <td>139728</td>\n",
       "      <td>81764926</td>\n",
       "      <td>0.001709</td>\n",
       "    </tr>\n",
       "    <tr>\n",
       "      <th>76</th>\n",
       "      <td>MR.</td>\n",
       "      <td>117873</td>\n",
       "      <td>81764926</td>\n",
       "      <td>0.001442</td>\n",
       "    </tr>\n",
       "    <tr>\n",
       "      <th>120</th>\n",
       "      <td>MOST</td>\n",
       "      <td>64424</td>\n",
       "      <td>81764926</td>\n",
       "      <td>0.000788</td>\n",
       "    </tr>\n",
       "    <tr>\n",
       "      <th>121</th>\n",
       "      <td>MARKET</td>\n",
       "      <td>63807</td>\n",
       "      <td>81764926</td>\n",
       "      <td>0.000780</td>\n",
       "    </tr>\n",
       "    <tr>\n",
       "      <th>125</th>\n",
       "      <td>MAY</td>\n",
       "      <td>59680</td>\n",
       "      <td>81764926</td>\n",
       "      <td>0.000730</td>\n",
       "    </tr>\n",
       "    <tr>\n",
       "      <th>129</th>\n",
       "      <td>M.</td>\n",
       "      <td>57514</td>\n",
       "      <td>81764926</td>\n",
       "      <td>0.000703</td>\n",
       "    </tr>\n",
       "    <tr>\n",
       "      <th>130</th>\n",
       "      <td>MANY</td>\n",
       "      <td>56968</td>\n",
       "      <td>81764926</td>\n",
       "      <td>0.000697</td>\n",
       "    </tr>\n",
       "    <tr>\n",
       "      <th>158</th>\n",
       "      <td>MADE</td>\n",
       "      <td>45777</td>\n",
       "      <td>81764926</td>\n",
       "      <td>0.000560</td>\n",
       "    </tr>\n",
       "    <tr>\n",
       "      <th>177</th>\n",
       "      <td>MUCH</td>\n",
       "      <td>42076</td>\n",
       "      <td>81764926</td>\n",
       "      <td>0.000515</td>\n",
       "    </tr>\n",
       "    <tr>\n",
       "      <th>179</th>\n",
       "      <td>MAKE</td>\n",
       "      <td>42065</td>\n",
       "      <td>81764926</td>\n",
       "      <td>0.000514</td>\n",
       "    </tr>\n",
       "    <tr>\n",
       "      <th>202</th>\n",
       "      <td>MONTH</td>\n",
       "      <td>36378</td>\n",
       "      <td>81764926</td>\n",
       "      <td>0.000445</td>\n",
       "    </tr>\n",
       "    <tr>\n",
       "      <th>208</th>\n",
       "      <td>MONEY</td>\n",
       "      <td>35740</td>\n",
       "      <td>81764926</td>\n",
       "      <td>0.000437</td>\n",
       "    </tr>\n",
       "    <tr>\n",
       "      <th>226</th>\n",
       "      <td>MONTHS</td>\n",
       "      <td>33177</td>\n",
       "      <td>81764926</td>\n",
       "      <td>0.000406</td>\n",
       "    </tr>\n",
       "    <tr>\n",
       "      <th>229</th>\n",
       "      <td>MY</td>\n",
       "      <td>32732</td>\n",
       "      <td>81764926</td>\n",
       "      <td>0.000400</td>\n",
       "    </tr>\n",
       "    <tr>\n",
       "      <th>246</th>\n",
       "      <td>MONDAY</td>\n",
       "      <td>31233</td>\n",
       "      <td>81764926</td>\n",
       "      <td>0.000382</td>\n",
       "    </tr>\n",
       "    <tr>\n",
       "      <th>255</th>\n",
       "      <td>MAJOR</td>\n",
       "      <td>30326</td>\n",
       "      <td>81764926</td>\n",
       "      <td>0.000371</td>\n",
       "    </tr>\n",
       "    <tr>\n",
       "      <th>274</th>\n",
       "      <td>MILITARY</td>\n",
       "      <td>28785</td>\n",
       "      <td>81764926</td>\n",
       "      <td>0.000352</td>\n",
       "    </tr>\n",
       "    <tr>\n",
       "      <th>286</th>\n",
       "      <td>MEMBERS</td>\n",
       "      <td>27478</td>\n",
       "      <td>81764926</td>\n",
       "      <td>0.000336</td>\n",
       "    </tr>\n",
       "    <tr>\n",
       "      <th>355</th>\n",
       "      <td>MIGHT</td>\n",
       "      <td>22370</td>\n",
       "      <td>81764926</td>\n",
       "      <td>0.000274</td>\n",
       "    </tr>\n",
       "    <tr>\n",
       "      <th>365</th>\n",
       "      <td>MEETING</td>\n",
       "      <td>21728</td>\n",
       "      <td>81764926</td>\n",
       "      <td>0.000266</td>\n",
       "    </tr>\n",
       "    <tr>\n",
       "      <th>369</th>\n",
       "      <td>MUST</td>\n",
       "      <td>21791</td>\n",
       "      <td>81764926</td>\n",
       "      <td>0.000267</td>\n",
       "    </tr>\n",
       "    <tr>\n",
       "      <th>373</th>\n",
       "      <td>ME</td>\n",
       "      <td>21551</td>\n",
       "      <td>81764926</td>\n",
       "      <td>0.000264</td>\n",
       "    </tr>\n",
       "    <tr>\n",
       "      <th>374</th>\n",
       "      <td>MARCH</td>\n",
       "      <td>21242</td>\n",
       "      <td>81764926</td>\n",
       "      <td>0.000260</td>\n",
       "    </tr>\n",
       "    <tr>\n",
       "      <th>384</th>\n",
       "      <td>MAN</td>\n",
       "      <td>20677</td>\n",
       "      <td>81764926</td>\n",
       "      <td>0.000253</td>\n",
       "    </tr>\n",
       "    <tr>\n",
       "      <th>402</th>\n",
       "      <td>MS.</td>\n",
       "      <td>19541</td>\n",
       "      <td>81764926</td>\n",
       "      <td>0.000239</td>\n",
       "    </tr>\n",
       "    <tr>\n",
       "      <th>403</th>\n",
       "      <td>MINISTER</td>\n",
       "      <td>19605</td>\n",
       "      <td>81764926</td>\n",
       "      <td>0.000240</td>\n",
       "    </tr>\n",
       "    <tr>\n",
       "      <th>459</th>\n",
       "      <td>MAKING</td>\n",
       "      <td>17310</td>\n",
       "      <td>81764926</td>\n",
       "      <td>0.000212</td>\n",
       "    </tr>\n",
       "    <tr>\n",
       "      <th>472</th>\n",
       "      <td>MOVE</td>\n",
       "      <td>17167</td>\n",
       "      <td>81764926</td>\n",
       "      <td>0.000210</td>\n",
       "    </tr>\n",
       "    <tr>\n",
       "      <th>478</th>\n",
       "      <td>MILES</td>\n",
       "      <td>16841</td>\n",
       "      <td>81764926</td>\n",
       "      <td>0.000206</td>\n",
       "    </tr>\n",
       "  </tbody>\n",
       "</table>\n",
       "</div>"
      ],
      "text/plain": [
       "         word   count         T     P_u_w\n",
       "53    MILLION  169479  81764926  0.002073\n",
       "68       MORE  139728  81764926  0.001709\n",
       "76        MR.  117873  81764926  0.001442\n",
       "120      MOST   64424  81764926  0.000788\n",
       "121    MARKET   63807  81764926  0.000780\n",
       "125       MAY   59680  81764926  0.000730\n",
       "129        M.   57514  81764926  0.000703\n",
       "130      MANY   56968  81764926  0.000697\n",
       "158      MADE   45777  81764926  0.000560\n",
       "177      MUCH   42076  81764926  0.000515\n",
       "179      MAKE   42065  81764926  0.000514\n",
       "202     MONTH   36378  81764926  0.000445\n",
       "208     MONEY   35740  81764926  0.000437\n",
       "226    MONTHS   33177  81764926  0.000406\n",
       "229        MY   32732  81764926  0.000400\n",
       "246    MONDAY   31233  81764926  0.000382\n",
       "255     MAJOR   30326  81764926  0.000371\n",
       "274  MILITARY   28785  81764926  0.000352\n",
       "286   MEMBERS   27478  81764926  0.000336\n",
       "355     MIGHT   22370  81764926  0.000274\n",
       "365   MEETING   21728  81764926  0.000266\n",
       "369      MUST   21791  81764926  0.000267\n",
       "373        ME   21551  81764926  0.000264\n",
       "374     MARCH   21242  81764926  0.000260\n",
       "384       MAN   20677  81764926  0.000253\n",
       "402       MS.   19541  81764926  0.000239\n",
       "403  MINISTER   19605  81764926  0.000240\n",
       "459    MAKING   17310  81764926  0.000212\n",
       "472      MOVE   17167  81764926  0.000210\n",
       "478     MILES   16841  81764926  0.000206"
      ]
     },
     "execution_count": 180,
     "metadata": {},
     "output_type": "execute_result"
    }
   ],
   "source": [
    "unigramModelDf = singleWordCountDf\n",
    "unigramModelDf['T'] = singleWordCountDf['count'].agg(sum)\n",
    "unigramModelDf['P_u_w'] = unigramModelDf['count']/unigramModelDf['T']\n",
    "unigramModelDf[unigramModelDf['word'].str.contains('^M')]"
   ]
  },
  {
   "cell_type": "markdown",
   "metadata": {},
   "source": [
    "### b)"
   ]
  },
  {
   "cell_type": "code",
   "execution_count": 181,
   "metadata": {},
   "outputs": [],
   "source": [
    "doubleWordCountDf = pd.DataFrame(doubleCountList, columns=['word1', 'word2', 'count'])"
   ]
  },
  {
   "cell_type": "code",
   "execution_count": 182,
   "metadata": {},
   "outputs": [
    {
     "name": "stderr",
     "output_type": "stream",
     "text": [
      "C:\\Users\\vaibh\\AppData\\Local\\Temp/ipykernel_2148/3264781231.py:2: SettingWithCopyWarning: \n",
      "A value is trying to be set on a copy of a slice from a DataFrame.\n",
      "Try using .loc[row_indexer,col_indexer] = value instead\n",
      "\n",
      "See the caveats in the documentation: https://pandas.pydata.org/pandas-docs/stable/user_guide/indexing.html#returning-a-view-versus-a-copy\n",
      "  tempdf['P_b_W_w'] = doubleWordCountDf['count']/singleWordCountDf[singleWordCountDf['word'] == 'THE']['count'].values[0]\n"
     ]
    }
   ],
   "source": [
    "tempdf = doubleWordCountDf[doubleWordCountDf['word1'] == 'THE']\n",
    "tempdf['P_b_W_w'] = doubleWordCountDf['count']/singleWordCountDf[singleWordCountDf['word'] == 'THE']['count'].values[0]"
   ]
  },
  {
   "cell_type": "code",
   "execution_count": 183,
   "metadata": {},
   "outputs": [
    {
     "data": {
      "text/html": [
       "<div>\n",
       "<style scoped>\n",
       "    .dataframe tbody tr th:only-of-type {\n",
       "        vertical-align: middle;\n",
       "    }\n",
       "\n",
       "    .dataframe tbody tr th {\n",
       "        vertical-align: top;\n",
       "    }\n",
       "\n",
       "    .dataframe thead th {\n",
       "        text-align: right;\n",
       "    }\n",
       "</style>\n",
       "<table border=\"1\" class=\"dataframe\">\n",
       "  <thead>\n",
       "    <tr style=\"text-align: right;\">\n",
       "      <th></th>\n",
       "      <th>word1</th>\n",
       "      <th>word2</th>\n",
       "      <th>count</th>\n",
       "      <th>P_b_W_w</th>\n",
       "    </tr>\n",
       "  </thead>\n",
       "  <tbody>\n",
       "    <tr>\n",
       "      <th>993</th>\n",
       "      <td>THE</td>\n",
       "      <td>&lt;UNK&gt;</td>\n",
       "      <td>2371132</td>\n",
       "      <td>0.615020</td>\n",
       "    </tr>\n",
       "    <tr>\n",
       "      <th>1058</th>\n",
       "      <td>THE</td>\n",
       "      <td>U.</td>\n",
       "      <td>51556</td>\n",
       "      <td>0.013372</td>\n",
       "    </tr>\n",
       "    <tr>\n",
       "      <th>1064</th>\n",
       "      <td>THE</td>\n",
       "      <td>FIRST</td>\n",
       "      <td>45186</td>\n",
       "      <td>0.011720</td>\n",
       "    </tr>\n",
       "    <tr>\n",
       "      <th>1060</th>\n",
       "      <td>THE</td>\n",
       "      <td>COMPANY</td>\n",
       "      <td>44949</td>\n",
       "      <td>0.011659</td>\n",
       "    </tr>\n",
       "    <tr>\n",
       "      <th>1050</th>\n",
       "      <td>THE</td>\n",
       "      <td>NEW</td>\n",
       "      <td>36439</td>\n",
       "      <td>0.009451</td>\n",
       "    </tr>\n",
       "    <tr>\n",
       "      <th>1165</th>\n",
       "      <td>THE</td>\n",
       "      <td>UNITED</td>\n",
       "      <td>33435</td>\n",
       "      <td>0.008672</td>\n",
       "    </tr>\n",
       "    <tr>\n",
       "      <th>1086</th>\n",
       "      <td>THE</td>\n",
       "      <td>GOVERNMENT</td>\n",
       "      <td>26230</td>\n",
       "      <td>0.006803</td>\n",
       "    </tr>\n",
       "    <tr>\n",
       "      <th>1029</th>\n",
       "      <td>THE</td>\n",
       "      <td>NINETEEN</td>\n",
       "      <td>25641</td>\n",
       "      <td>0.006651</td>\n",
       "    </tr>\n",
       "    <tr>\n",
       "      <th>1282</th>\n",
       "      <td>THE</td>\n",
       "      <td>SAME</td>\n",
       "      <td>24239</td>\n",
       "      <td>0.006287</td>\n",
       "    </tr>\n",
       "    <tr>\n",
       "      <th>1014</th>\n",
       "      <td>THE</td>\n",
       "      <td>TWO</td>\n",
       "      <td>23752</td>\n",
       "      <td>0.006161</td>\n",
       "    </tr>\n",
       "  </tbody>\n",
       "</table>\n",
       "</div>"
      ],
      "text/plain": [
       "     word1       word2    count   P_b_W_w\n",
       "993    THE       <UNK>  2371132  0.615020\n",
       "1058   THE          U.    51556  0.013372\n",
       "1064   THE       FIRST    45186  0.011720\n",
       "1060   THE     COMPANY    44949  0.011659\n",
       "1050   THE         NEW    36439  0.009451\n",
       "1165   THE      UNITED    33435  0.008672\n",
       "1086   THE  GOVERNMENT    26230  0.006803\n",
       "1029   THE    NINETEEN    25641  0.006651\n",
       "1282   THE        SAME    24239  0.006287\n",
       "1014   THE         TWO    23752  0.006161"
      ]
     },
     "execution_count": 183,
     "metadata": {},
     "output_type": "execute_result"
    }
   ],
   "source": [
    "tempdf.sort_values(by='P_b_W_w', ascending=False)[:10]"
   ]
  },
  {
   "cell_type": "markdown",
   "metadata": {},
   "source": [
    "### c)"
   ]
  },
  {
   "cell_type": "code",
   "execution_count": 184,
   "metadata": {},
   "outputs": [],
   "source": [
    "sentence = \"The stock market fell by one hundred points last week\"\n",
    "splitSentence = list(map(str.upper, sentence.split(' ')))"
   ]
  },
  {
   "cell_type": "code",
   "execution_count": 185,
   "metadata": {},
   "outputs": [],
   "source": [
    "P_u = 1\n",
    "for word in splitSentence:\n",
    "    P_u = P_u * (unigramModelDf[unigramModelDf['word'] == word]['P_u_w'].values[0])\n",
    "P_u = math.log(P_u)"
   ]
  },
  {
   "cell_type": "code",
   "execution_count": 186,
   "metadata": {},
   "outputs": [],
   "source": [
    "splitSentence.insert(0, '<s>')"
   ]
  },
  {
   "cell_type": "code",
   "execution_count": 187,
   "metadata": {},
   "outputs": [],
   "source": [
    "P_b = 1\n",
    "for i in range(len(splitSentence) - 1):\n",
    "    num = doubleWordCountDf[(doubleWordCountDf['word1'] == splitSentence[i]) & \n",
    "                            (doubleWordCountDf['word2'] == splitSentence[i + 1])]['count'].values[0]\n",
    "    den = unigramModelDf[unigramModelDf['word'] == splitSentence[i]]['count'].values[0]\n",
    "    P_b = P_b * (num / den)\n",
    "    \n",
    "P_b = math.log(P_b)"
   ]
  },
  {
   "cell_type": "code",
   "execution_count": 188,
   "metadata": {},
   "outputs": [
    {
     "name": "stdout",
     "output_type": "stream",
     "text": [
      "-64.50944034364878\n",
      "-40.91813213378977\n"
     ]
    }
   ],
   "source": [
    "print(P_u)\n",
    "print(P_b)"
   ]
  },
  {
   "cell_type": "markdown",
   "metadata": {},
   "source": [
    "Bigram model yeilds higher log-likelihood"
   ]
  },
  {
   "cell_type": "markdown",
   "metadata": {},
   "source": [
    "### d)"
   ]
  },
  {
   "cell_type": "code",
   "execution_count": 189,
   "metadata": {},
   "outputs": [],
   "source": [
    "sentence = \"The sixteen officials sold fire insurance\"\n",
    "splitSentence = list(map(str.upper, sentence.split(' ')))"
   ]
  },
  {
   "cell_type": "code",
   "execution_count": 190,
   "metadata": {},
   "outputs": [],
   "source": [
    "def getUnigramProb(word, log=True):\n",
    "    prob = unigramModelDf[unigramModelDf['word'] == word]['P_u_w'].values[0]\n",
    "    if log:\n",
    "        return np.log(prob)\n",
    "    else:\n",
    "        return prob"
   ]
  },
  {
   "cell_type": "code",
   "execution_count": 191,
   "metadata": {},
   "outputs": [],
   "source": [
    "P_u = 0\n",
    "for word in splitSentence:\n",
    "    if word in unigramModelDf['word'].values:\n",
    "        P_u = P_u + getUnigramProb(word)"
   ]
  },
  {
   "cell_type": "code",
   "execution_count": 192,
   "metadata": {},
   "outputs": [],
   "source": [
    "splitSentence.insert(0, '<s>')"
   ]
  },
  {
   "cell_type": "code",
   "execution_count": 193,
   "metadata": {},
   "outputs": [],
   "source": [
    "def getBigramProb(word1, word2, log=True):\n",
    "    if word1 in doubleWordCountDf['word1'].values and \\\n",
    "            word2 in doubleWordCountDf[doubleWordCountDf['word1'] == word1]['word2'].values:\n",
    "        num = doubleWordCountDf[(doubleWordCountDf['word1'] == word1) & \n",
    "                                (doubleWordCountDf['word2'] == word2)]['count'].values[0]\n",
    "        den = unigramModelDf[unigramModelDf['word'] == word1]['count'].values[0]\n",
    "        temp = (num / den)\n",
    "    else:\n",
    "        temp = 0\n",
    "    \n",
    "    if log:\n",
    "        return np.log(temp)\n",
    "    else:\n",
    "        return temp"
   ]
  },
  {
   "cell_type": "code",
   "execution_count": 194,
   "metadata": {},
   "outputs": [
    {
     "name": "stderr",
     "output_type": "stream",
     "text": [
      "C:\\Users\\vaibh\\AppData\\Local\\Temp/ipykernel_2148/851827573.py:12: RuntimeWarning: divide by zero encountered in log\n",
      "  return np.log(temp)\n"
     ]
    }
   ],
   "source": [
    "P_b = 0\n",
    "for i in range(len(splitSentence) - 1):\n",
    "    P_b = P_b + getBigramProb(splitSentence[i], splitSentence[i + 1])"
   ]
  },
  {
   "cell_type": "code",
   "execution_count": 195,
   "metadata": {},
   "outputs": [
    {
     "name": "stdout",
     "output_type": "stream",
     "text": [
      "-44.291934473132606\n",
      "-inf\n"
     ]
    }
   ],
   "source": [
    "print(P_u)\n",
    "print(P_b)"
   ]
  },
  {
   "cell_type": "markdown",
   "metadata": {},
   "source": [
    "### e)"
   ]
  },
  {
   "cell_type": "code",
   "execution_count": 196,
   "metadata": {},
   "outputs": [],
   "source": [
    "def getMixedProb(word1, word2, l, log=True):\n",
    "    prob = (l * getUnigramProb(word2, False) + (1 - l) * getBigramProb(word1, word2, False))\n",
    "    if log:\n",
    "        return np.log(prob)\n",
    "    else:\n",
    "        return prob"
   ]
  },
  {
   "cell_type": "code",
   "execution_count": 197,
   "metadata": {},
   "outputs": [],
   "source": [
    "def getLogLikelihood(l):\n",
    "    P_m = 0\n",
    "    for i in range(1, len(splitSentence)):\n",
    "        P_m = P_m + getMixedProb(splitSentence[i - 1], splitSentence[i], l)\n",
    "    return P_m"
   ]
  },
  {
   "cell_type": "code",
   "execution_count": 198,
   "metadata": {},
   "outputs": [
    {
     "name": "stderr",
     "output_type": "stream",
     "text": [
      "C:\\Users\\vaibh\\AppData\\Local\\Temp/ipykernel_2148/1733256390.py:4: RuntimeWarning: divide by zero encountered in log\n",
      "  return np.log(prob)\n"
     ]
    }
   ],
   "source": [
    "dx = 0.01\n",
    "l = 0\n",
    "lList = []\n",
    "P_m_list = []\n",
    "\n",
    "while l <= 1:\n",
    "    lList.append(l)\n",
    "    P_m_list.append(getLogLikelihood(l))\n",
    "    l += dx"
   ]
  },
  {
   "cell_type": "code",
   "execution_count": 199,
   "metadata": {
    "scrolled": true
   },
   "outputs": [
    {
     "data": {
      "text/plain": [
       "Text(0, 0.5, 'P_m')"
      ]
     },
     "execution_count": 199,
     "metadata": {},
     "output_type": "execute_result"
    },
    {
     "data": {
      "image/png": "[encoded data removed]",
      "text/plain": [
       "<Figure size 432x288 with 1 Axes>"
      ]
     },
     "metadata": {
      "needs_background": "light"
     },
     "output_type": "display_data"
    }
   ],
   "source": [
    "plt.plot(lList, P_m_list)\n",
    "plt.xlabel('lambda')\n",
    "plt.ylabel('P_m')"
   ]
  },
  {
   "cell_type": "code",
   "execution_count": 200,
   "metadata": {},
   "outputs": [
    {
     "data": {
      "text/plain": [
       "0.6500000000000004"
      ]
     },
     "execution_count": 200,
     "metadata": {},
     "output_type": "execute_result"
    }
   ],
   "source": [
    "lList[P_m_list.index(max(P_m_list))] # Optimal value of Lambda"
   ]
  },
  {
   "cell_type": "markdown",
   "metadata": {},
   "source": [
    "# Q) 4.4"
   ]
  },
  {
   "cell_type": "code",
   "execution_count": 31,
   "metadata": {},
   "outputs": [],
   "source": [
    "nasdaq00 = 'nasdaq00.txt'\n",
    "nasdaq01 = 'nasdaq01.txt'"
   ]
  },
  {
   "cell_type": "code",
   "execution_count": 39,
   "metadata": {},
   "outputs": [],
   "source": [
    "def readFile(fileName):\n",
    "    result = []\n",
    "    with open(fileName) as f:\n",
    "        for line in f:\n",
    "            result.append(float(line.strip('\\n')))\n",
    "    return result"
   ]
  },
  {
   "cell_type": "code",
   "execution_count": 40,
   "metadata": {},
   "outputs": [],
   "source": [
    "stonks0 = readFile(nasdaq00)\n",
    "stonks1 = readFile(nasdaq01)"
   ]
  },
  {
   "cell_type": "code",
   "execution_count": 143,
   "metadata": {},
   "outputs": [],
   "source": [
    "def createDataset(stonks):\n",
    "    y = []\n",
    "    x = []\n",
    "    for i in range(3, len(stonks)):\n",
    "        y.append(stonks[i])\n",
    "        x.append([stonks[i - 1], stonks[i - 2], stonks[i - 3]])\n",
    "    return y, x"
   ]
  },
  {
   "cell_type": "code",
   "execution_count": 144,
   "metadata": {},
   "outputs": [],
   "source": [
    "y0, x0 = createDataset(stonks0)\n",
    "y1, x1 = createDataset(stonks1)"
   ]
  },
  {
   "cell_type": "code",
   "execution_count": 145,
   "metadata": {},
   "outputs": [],
   "source": [
    "y0 = np.asarray(y0)\n",
    "x0 = np.asarray(x0)\n",
    "y1 = np.asarray(y1)\n",
    "x1 = np.asarray(x1)"
   ]
  },
  {
   "cell_type": "code",
   "execution_count": 146,
   "metadata": {},
   "outputs": [],
   "source": [
    "b0 = np.expand_dims(y0, axis=1) * x0"
   ]
  },
  {
   "cell_type": "code",
   "execution_count": 147,
   "metadata": {},
   "outputs": [],
   "source": [
    "A0 = np.einsum('ij,ik->ijk', x0, x0)"
   ]
  },
  {
   "cell_type": "code",
   "execution_count": 148,
   "metadata": {},
   "outputs": [],
   "source": [
    "w = np.linalg.inv(A0.sum(axis=0)) @ b0.sum(axis=0)"
   ]
  },
  {
   "cell_type": "markdown",
   "metadata": {},
   "source": [
    "### a)"
   ]
  },
  {
   "cell_type": "code",
   "execution_count": 149,
   "metadata": {},
   "outputs": [
    {
     "data": {
      "text/plain": [
       "array([0.95067337, 0.01560133, 0.03189569])"
      ]
     },
     "execution_count": 149,
     "metadata": {},
     "output_type": "execute_result"
    }
   ],
   "source": [
    "w"
   ]
  },
  {
   "cell_type": "markdown",
   "metadata": {},
   "source": [
    "### b)"
   ]
  },
  {
   "cell_type": "code",
   "execution_count": 170,
   "metadata": {},
   "outputs": [],
   "source": [
    "rmse0 = np.sqrt(np.mean((y0 - x0.dot(w))**2))"
   ]
  },
  {
   "cell_type": "code",
   "execution_count": 171,
   "metadata": {},
   "outputs": [],
   "source": [
    "rmse1 = np.sqrt(np.mean((y1 - x1.dot(w))**2))"
   ]
  },
  {
   "cell_type": "code",
   "execution_count": 172,
   "metadata": {},
   "outputs": [
    {
     "name": "stdout",
     "output_type": "stream",
     "text": [
      "117.90844361778288\n",
      "54.63604967519669\n"
     ]
    }
   ],
   "source": [
    "print(rmse0)\n",
    "print(rmse1)"
   ]
  }
 ],
 "metadata": {
  "kernelspec": {
   "display_name": "Python cse258",
   "language": "python",
   "name": "cse258"
  },
  "language_info": {
   "codemirror_mode": {
    "name": "ipython",
    "version": 3
   },
   "file_extension": ".py",
   "mimetype": "text/x-python",
   "name": "python",
   "nbconvert_exporter": "python",
   "pygments_lexer": "ipython3",
   "version": "3.8.11"
  }
 },
 "nbformat": 4,
 "nbformat_minor": 2
}
