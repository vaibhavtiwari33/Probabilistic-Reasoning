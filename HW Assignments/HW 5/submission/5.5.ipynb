{
 "cells": [
  {
   "cell_type": "code",
   "execution_count": 114,
   "metadata": {},
   "outputs": [],
   "source": [
    "import random\n",
    "import math\n",
    "import matplotlib.pyplot as plt\n",
    "import numpy as np\n",
    "from sklearn.utils import shuffle\n",
    "from sklearn.metrics import accuracy_score"
   ]
  },
  {
   "cell_type": "code",
   "execution_count": 4,
   "metadata": {},
   "outputs": [],
   "source": [
    "def parseFile(filename):\n",
    "    contents = []\n",
    "    with open(filename) as f:\n",
    "        for line in f:\n",
    "            contents.append([int(item) for item in line.strip('\\n').split()])\n",
    "    return contents"
   ]
  },
  {
   "cell_type": "code",
   "execution_count": 5,
   "metadata": {},
   "outputs": [],
   "source": [
    "train3file = 'train3.txt'\n",
    "train5file = 'train5.txt'\n",
    "test3file = 'test3.txt'\n",
    "test5file = 'test5.txt'"
   ]
  },
  {
   "cell_type": "code",
   "execution_count": 25,
   "metadata": {},
   "outputs": [],
   "source": [
    "train3 = parseFile(train3file)\n",
    "train5 = parseFile(train5file)\n",
    "test3 = parseFile(test3file)\n",
    "test5 = parseFile(test5file)"
   ]
  },
  {
   "cell_type": "code",
   "execution_count": 26,
   "metadata": {},
   "outputs": [],
   "source": [
    "ytrain3 = [0] * len(train3)\n",
    "ytrain5 = [1] * len(train5)\n",
    "ytest3 = [0] * len(test3)\n",
    "ytest5 = [1] * len(test5)\n",
    "\n",
    "train3.extend(train5)\n",
    "test3.extend(test5)\n",
    "ytrain3.extend(ytrain5)\n",
    "ytest3.extend(ytest5)\n",
    "\n",
    "x_train = train3\n",
    "x_test = test3\n",
    "y_train = ytrain3\n",
    "y_test = ytest3"
   ]
  },
  {
   "cell_type": "code",
   "execution_count": 20,
   "metadata": {},
   "outputs": [],
   "source": [
    "def listToNparray(listOfList):\n",
    "    return np.array([np.array(xi) for xi in listOfList])"
   ]
  },
  {
   "cell_type": "code",
   "execution_count": 31,
   "metadata": {},
   "outputs": [],
   "source": [
    "x_train = listToNparray(x_train)\n",
    "x_test = listToNparray(x_test)\n",
    "y_train = listToNparray(y_train)\n",
    "y_test = listToNparray(y_test)"
   ]
  },
  {
   "cell_type": "code",
   "execution_count": 34,
   "metadata": {},
   "outputs": [],
   "source": [
    "x_train, y_train = shuffle(x_train, y_train, random_state=0)\n",
    "x_test, y_test = shuffle(x_test, y_test, random_state=0)"
   ]
  },
  {
   "cell_type": "code",
   "execution_count": 92,
   "metadata": {},
   "outputs": [],
   "source": [
    "def sigmoid(x):\n",
    "    return 1 / (1 + math.exp(-x))\n",
    "\n",
    "sigmoid_vec = np.vectorize(sigmoid)"
   ]
  },
  {
   "cell_type": "code",
   "execution_count": 110,
   "metadata": {},
   "outputs": [],
   "source": [
    "def gradient(y_data, x_data, w):\n",
    "    arr = y_data - sigmoid_vec(x_train.dot(w))\n",
    "    return np.sum((np.expand_dims(arr, axis=1) * x_data), axis=0)"
   ]
  },
  {
   "cell_type": "code",
   "execution_count": 111,
   "metadata": {},
   "outputs": [],
   "source": [
    "def logLikelihood(y_data, x_data, w):\n",
    "    vec_log = np.vectorize(math.log)\n",
    "    sigma = sigmoid_vec(x_data.dot(w))\n",
    "    return np.sum(y_data * vec_log(sigma) + ((1 - y_data) * vec_log(1 - sigma)), axis = 0)"
   ]
  },
  {
   "cell_type": "code",
   "execution_count": 146,
   "metadata": {},
   "outputs": [],
   "source": [
    "def percentErrorRate(y_data, x_data, w):\n",
    "    sigma = sigmoid_vec(x_data.dot(w))\n",
    "    sigma[sigma >= 0.5] = 1\n",
    "    sigma[sigma < 0.5] = 0\n",
    "    return (1 - accuracy_score(y_data, sigma)) * 100"
   ]
  },
  {
   "cell_type": "code",
   "execution_count": 139,
   "metadata": {},
   "outputs": [],
   "source": [
    "lr = 0.2/len(train3)\n",
    "w = np.array([random.random() for i in range(64)])"
   ]
  },
  {
   "cell_type": "code",
   "execution_count": 140,
   "metadata": {},
   "outputs": [],
   "source": [
    "likelihoods = []\n",
    "error_rates = []\n",
    "\n",
    "while(True):\n",
    "    error_rates.append(percentErrorRate(y_train, x_train, w))\n",
    "    likelihoods.append(logLikelihood(y_train, x_train, w))\n",
    "    new_w = w + (lr * gradient(y_train, x_train, w))\n",
    "    if np.sum(abs(new_w - w)) < 0.000001:\n",
    "        break\n",
    "    w = new_w"
   ]
  },
  {
   "cell_type": "code",
   "execution_count": 141,
   "metadata": {},
   "outputs": [
    {
     "data": {
      "image/png": "[encoded data removed]",
      "text/plain": [
       "<Figure size 432x288 with 1 Axes>"
      ]
     },
     "metadata": {
      "needs_background": "light"
     },
     "output_type": "display_data"
    }
   ],
   "source": [
    "plt.plot(likelihoods)\n",
    "plt.ylabel('log likelihood')\n",
    "plt.show()"
   ]
  },
  {
   "cell_type": "code",
   "execution_count": 142,
   "metadata": {},
   "outputs": [
    {
     "data": {
      "image/png": "[encoded data removed]",
      "text/plain": [
       "<Figure size 432x288 with 1 Axes>"
      ]
     },
     "metadata": {
      "needs_background": "light"
     },
     "output_type": "display_data"
    }
   ],
   "source": [
    "plt.plot(error_rates)\n",
    "plt.ylabel('Percent Error Rate')\n",
    "plt.show()"
   ]
  },
  {
   "cell_type": "code",
   "execution_count": 143,
   "metadata": {},
   "outputs": [
    {
     "name": "stdout",
     "output_type": "stream",
     "text": [
      "Training Data:\n",
      "Percent Error Rate: 3.785714285714281 \n",
      "Log Likelihood: -160.69474592974012\n"
     ]
    }
   ],
   "source": [
    "print('Training Data:')\n",
    "print('Percent Error Rate: ', error_rates[-1])\n",
    "print('Log Likelihood: {}', likelihoods[-1])"
   ]
  },
  {
   "cell_type": "code",
   "execution_count": 144,
   "metadata": {},
   "outputs": [
    {
     "data": {
      "text/plain": [
       "array([[-0.69894   , -1.79069835, -1.09593222, -1.55910935, -0.61281589,\n",
       "        -1.19585413,  0.80501971,  1.98157463],\n",
       "       [-0.30662466, -0.27510221,  0.33725763, -0.03486635, -0.70225478,\n",
       "         1.00807412, -1.50060329, -1.51395157],\n",
       "       [ 4.53778378,  1.39875248,  1.62982922,  0.09538458,  1.03742834,\n",
       "        -2.47927927, -2.46688993, -2.94551655],\n",
       "       [ 0.75360529,  0.36365432,  0.79404835, -0.36574538, -0.53219836,\n",
       "        -2.81289441,  0.5334757 , -0.06481029],\n",
       "       [ 0.66709125,  1.33469587,  0.11231855, -0.48299606, -0.63111966,\n",
       "        -0.03003996, -0.67680811, -0.06051637],\n",
       "       [ 1.3430501 , -0.30005544, -0.45764991, -0.22806255, -0.05443981,\n",
       "        -1.17036269,  1.03806527, -1.89777205],\n",
       "       [ 1.7596746 , -0.78112313,  1.42567803,  0.74172486,  0.5411414 ,\n",
       "        -0.47610008,  0.12114978, -1.76621289],\n",
       "       [ 0.74667644,  0.36042091,  0.78657701,  2.71799425,  0.4308032 ,\n",
       "         0.75479189,  0.991657  , -0.63365613]])"
      ]
     },
     "execution_count": 144,
     "metadata": {},
     "output_type": "execute_result"
    }
   ],
   "source": [
    "w.reshape((8, 8))"
   ]
  },
  {
   "cell_type": "code",
   "execution_count": 147,
   "metadata": {},
   "outputs": [
    {
     "name": "stdout",
     "output_type": "stream",
     "text": [
      "Testing Data:\n",
      "Percent Error Rate:  6.6250000000000036\n",
      "Log Likelihood:  -127.17772193651534\n"
     ]
    }
   ],
   "source": [
    "print('Testing Data:')\n",
    "print('Percent Error Rate: ', percentErrorRate(y_test, x_test, w))\n",
    "print('Log Likelihood: ', logLikelihood(y_test, x_test, w))"
   ]
  }
 ],
 "metadata": {
  "kernelspec": {
   "display_name": "Python cse258",
   "language": "python",
   "name": "cse258"
  },
  "language_info": {
   "codemirror_mode": {
    "name": "ipython",
    "version": 3
   },
   "file_extension": ".py",
   "mimetype": "text/x-python",
   "name": "python",
   "nbconvert_exporter": "python",
   "pygments_lexer": "ipython3",
   "version": "3.8.11"
  }
 },
 "nbformat": 4,
 "nbformat_minor": 2
}
