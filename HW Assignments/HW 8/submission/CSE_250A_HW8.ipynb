{
 "cells": [
  {
   "cell_type": "code",
   "execution_count": 68,
   "id": "d9764ef1",
   "metadata": {},
   "outputs": [],
   "source": [
    "import numpy as np\n",
    "import pandas as pd\n",
    "import matplotlib.pyplot as plt"
   ]
  },
  {
   "cell_type": "code",
   "execution_count": 6,
   "id": "1473a001",
   "metadata": {},
   "outputs": [],
   "source": [
    "id_file = 'hw8_ids.txt'\n",
    "movie_file = 'hw8_movies.txt'\n",
    "probR_file = 'hw8_probR_init.txt'\n",
    "probZ_file = 'hw8_probZ_init.txt'\n",
    "rating_file = 'hw8_ratings.txt'"
   ]
  },
  {
   "cell_type": "code",
   "execution_count": 23,
   "id": "8c8c7c6f",
   "metadata": {},
   "outputs": [],
   "source": [
    "def loadFile(filename, multi_col=False):\n",
    "    contents = []\n",
    "    with open(filename) as file:\n",
    "        for line in file:\n",
    "            temp = line.strip('\\n').strip()\n",
    "            if multi_col:\n",
    "                temp = temp.split()\n",
    "            contents.append(temp)\n",
    "    \n",
    "    return np.asarray([np.array(x) for x in contents])"
   ]
  },
  {
   "cell_type": "code",
   "execution_count": 167,
   "id": "f3d3ab0a",
   "metadata": {},
   "outputs": [],
   "source": [
    "id_df = loadFile(id_file)\n",
    "movie_df = loadFile(movie_file)\n",
    "probR_df = loadFile(probR_file, True).astype(np.float64)\n",
    "probZ_df = loadFile(probZ_file).astype(np.float64)\n",
    "rating_df = loadFile(rating_file, True)"
   ]
  },
  {
   "cell_type": "code",
   "execution_count": 168,
   "id": "c12b4a37",
   "metadata": {},
   "outputs": [],
   "source": [
    "recommended_df = np.zeros((rating_df.shape[1],))\n",
    "seen_df = np.zeros((rating_df.shape[1],))"
   ]
  },
  {
   "cell_type": "code",
   "execution_count": 38,
   "id": "9e3e369b",
   "metadata": {},
   "outputs": [],
   "source": [
    "for row in range(rating_df.shape[0]):\n",
    "    for col in range(rating_df.shape[1]):\n",
    "        if rating_df[row][col] == '1':\n",
    "            recommended_df[col] += 1\n",
    "        if rating_df[row][col] != '?':\n",
    "            seen_df[col] += 1"
   ]
  },
  {
   "cell_type": "code",
   "execution_count": 54,
   "id": "20eaa363",
   "metadata": {},
   "outputs": [
    {
     "data": {
      "text/plain": [
       "dtype('float64')"
      ]
     },
     "execution_count": 54,
     "metadata": {},
     "output_type": "execute_result"
    }
   ],
   "source": [
    "(recommended_df/seen_df)"
   ]
  },
  {
   "cell_type": "code",
   "execution_count": 41,
   "id": "08d840a7",
   "metadata": {},
   "outputs": [],
   "source": [
    "popularity_df = recommended_df/seen_df"
   ]
  },
  {
   "cell_type": "code",
   "execution_count": 47,
   "id": "4e85b7a7",
   "metadata": {},
   "outputs": [],
   "source": [
    "popularity_df = np.vstack((movie_df, popularity_df)).transpose((1, 0))"
   ]
  },
  {
   "cell_type": "code",
   "execution_count": 59,
   "id": "3cd77d6d",
   "metadata": {},
   "outputs": [],
   "source": [
    "popularity_df = pd.DataFrame(data=popularity_df, columns=[\"movie\", \"popularity\"])"
   ]
  },
  {
   "cell_type": "markdown",
   "id": "00f9afc6",
   "metadata": {},
   "source": [
    "## 8.1 a)"
   ]
  },
  {
   "cell_type": "code",
   "execution_count": 67,
   "id": "fb7a0497",
   "metadata": {},
   "outputs": [
    {
     "name": "stdout",
     "output_type": "stream",
     "text": [
      "                                           movie           popularity\n",
      "0                                      Inception   0.9657534246575342\n",
      "3                                 Shutter_Island   0.9444444444444444\n",
      "21                         The_Dark_Knight_Rises   0.9416342412451362\n",
      "47                                   The_Martian   0.9393939393939394\n",
      "39                                  Interstellar   0.9385665529010239\n",
      "40                      The_Theory_of_Everything   0.9195402298850575\n",
      "11  Harry_Potter_and_the_Deathly_Hallows:_Part_2   0.9178082191780822\n",
      "1                             The_Social_Network   0.9016393442622951\n",
      "5   Harry_Potter_and_the_Deathly_Hallows:_Part_1   0.9006622516556292\n",
      "37                                     Gone_Girl   0.8944099378881988\n",
      "65                                 The_Lion_King   0.8943661971830986\n",
      "28                           Wolf_of_Wall_Street   0.8916666666666667\n",
      "50                        Avengers:_Infinity_War   0.8785714285714286\n",
      "62                             Avengers:_Endgame   0.8681318681318682\n",
      "31                                Now_You_See_Me   0.8649789029535865\n",
      "23                              Django_Unchained   0.8639455782312925\n",
      "69                                  The_Farewell   0.8604651162790697\n",
      "20                                  The_Avengers   0.8436482084690554\n",
      "70                                      Parasite   0.8363636363636363\n",
      "2                                     Black_Swan   0.8297872340425532\n",
      "64                      Spiderman:_Far_From_Home   0.8271604938271605\n",
      "26                                21_Jump_Street   0.8253968253968254\n",
      "25                                Les_Miserables                0.825\n",
      "67                                         Joker                0.824\n",
      "19               The_Perks_of_Being_a_Wallflower   0.8198198198198198\n",
      "6                                     Iron_Man_2   0.8178694158075601\n",
      "33                              12_Years_a_Slave   0.8163265306122449\n",
      "22                              The_Hunger_Games   0.8148148148148148\n",
      "7                                    Toy_Story_3    0.803347280334728\n",
      "9                                           Thor   0.8031496062992126\n",
      "48                             The_Hateful_Eight                  0.8\n",
      "55                                Hidden_Figures   0.7974683544303798\n",
      "51                              Ready_Player_One   0.7973856209150327\n",
      "13              The_Girls_with_the_Dragon_Tattoo   0.7931034482758621\n",
      "10            Captain_America:_The_First_Avenger   0.7913669064748201\n",
      "32                                           Her   0.7888888888888889\n",
      "58                                       Dunkirk   0.7868852459016393\n",
      "29                              The_Great_Gatsby   0.7864077669902912\n",
      "61                                  Darkest_Hour   0.7848101265822784\n",
      "59               Three_Billboards_Outside_Ebbing   0.7741935483870968\n",
      "63                 Once_Upon_a_Time_in_Hollywood    0.768595041322314\n",
      "56                         Manchester_by_the_Sea   0.7636363636363637\n",
      "17                             Midnight_in_Paris   0.7560975609756098\n",
      "54                                    La_La_Land   0.7547169811320755\n",
      "45                       Avengers:_Age_of_Ultron   0.7424242424242424\n",
      "38                                    Ex_Machina   0.7391304347826086\n",
      "49                                  The_Revenant   0.7363636363636363\n",
      "14                            X-Men:_First_Class   0.7360406091370558\n",
      "30                                        Frozen   0.7241379310344828\n",
      "43                                Jurassic_World   0.7209302325581395\n",
      "24                                 Pitch_Perfect                 0.72\n",
      "16                                      The_Help   0.7068965517241379\n",
      "72                                            Us                  0.7\n",
      "15                                         Drive   0.6901408450704225\n",
      "42                            Mad_Max:_Fury_Road   0.6783216783216783\n",
      "8                                      Fast_Five   0.6588235294117647\n",
      "73                     Pokemon_Detective_Pikachu   0.6566265060240963\n",
      "71                                     Good_Boys              0.65625\n",
      "46                                          Room   0.6515151515151515\n",
      "75                         Terminator:_Dark_Fate   0.6388888888888888\n",
      "35                               American_Hustle   0.6282051282051282\n",
      "36                                  Man_of_Steel   0.6242774566473989\n",
      "12                                    Bridemaids   0.6190476190476191\n",
      "53                                 Chappaquidick                  0.6\n",
      "66                                     Rocketman   0.5967741935483871\n",
      "41                  Star_Wars:_The_Force_Awakens   0.5935828877005348\n",
      "34                                   World_War_Z   0.5895522388059702\n",
      "60                                Phantom_Thread   0.5862068965517241\n",
      "18                                    Prometheus    0.584070796460177\n",
      "57                            The_Shape_of_Water   0.5584415584415584\n",
      "68                  Fast_&_Furious:_Hobbs_&_Shaw   0.5405405405405406\n",
      "27                                    Magic_Mike   0.5151515151515151\n",
      "4                             The_Last_Airbender  0.47368421052631576\n",
      "74                                      Hustlers  0.45652173913043476\n",
      "44                          Fifty_Shades_of_Grey  0.37714285714285717\n",
      "52                                 I_Feel_Pretty    0.358974358974359\n"
     ]
    }
   ],
   "source": [
    "with pd.option_context('display.max_rows', None, 'display.max_columns', None):  # more options can be specified also\n",
    "    print(popularity_df.sort_values(by=['popularity'], ascending=False))"
   ]
  },
  {
   "cell_type": "markdown",
   "id": "90d990b3",
   "metadata": {},
   "source": [
    "## 8.1 e)"
   ]
  },
  {
   "cell_type": "code",
   "execution_count": 123,
   "id": "8836f6c4",
   "metadata": {},
   "outputs": [],
   "source": [
    "rating_df[rating_df == '?'] = '2'"
   ]
  },
  {
   "cell_type": "code",
   "execution_count": 125,
   "id": "1d8f6078",
   "metadata": {},
   "outputs": [],
   "source": [
    "rating_df = rating_df.astype(np.int32)"
   ]
  },
  {
   "cell_type": "code",
   "execution_count": 169,
   "id": "903b6646",
   "metadata": {},
   "outputs": [],
   "source": [
    "likelihood_table = np.empty((rating_df.shape[0],))\n",
    "P_Z_table = np.empty((probZ_df.shape[0]))\n",
    "P_R_Z_table = np.empty((rating_df.shape[0], probZ_df.shape[0]))\n",
    "estep_table = np.empty((rating_df.shape[0], probZ_df.shape[0]))"
   ]
  },
  {
   "cell_type": "code",
   "execution_count": 170,
   "id": "cdcba2fd",
   "metadata": {},
   "outputs": [],
   "source": [
    "def get_P_R_Z(t_student, z_i):\n",
    "    prod = 1\n",
    "    for p in range(probR_df.shape[0]):\n",
    "        if rating_df[t_student][p] != '?':\n",
    "            if rating_df[t_student][p] == '1':\n",
    "                prod = prod*probR_df[p][z_i]\n",
    "            else:\n",
    "                prod = prod*(1 - probR_df[p][z_i])\n",
    "    return prod"
   ]
  },
  {
   "cell_type": "code",
   "execution_count": 171,
   "id": "edc3f990",
   "metadata": {},
   "outputs": [],
   "source": [
    "def get_likelihood(t_student):\n",
    "    likelihood = 0\n",
    "    for z in range(probZ_df.shape[0]):\n",
    "        #likelihood += get_P_R_Z(t_student, z) * probZ_df[z]\n",
    "        likelihood = likelihood + (P_R_Z_table[t_student][z] * probZ_df[z])\n",
    "    return likelihood"
   ]
  },
  {
   "cell_type": "code",
   "execution_count": 172,
   "id": "39379629",
   "metadata": {},
   "outputs": [],
   "source": [
    "def get_estep(t_student, z_i):\n",
    "    #return (probZ_df[z_i] * get_P_R_Z(t_student, z_i)) / get_likelihood(t_student)\n",
    "    return (probZ_df[z_i] * P_R_Z_table[t_student][z_i]) / likelihood_table[t_student]"
   ]
  },
  {
   "cell_type": "code",
   "execution_count": 173,
   "id": "3f353dd3",
   "metadata": {},
   "outputs": [],
   "source": [
    "def update_P_Z(z_i):\n",
    "    result = 0\n",
    "    for t in range(rating_df.shape[0]):\n",
    "        #result += get_estep(t, z_i)\n",
    "        result += estep_table[t][z_i]\n",
    "    return (result / rating_df.shape[0])"
   ]
  },
  {
   "cell_type": "code",
   "execution_count": 174,
   "id": "320e02fb",
   "metadata": {},
   "outputs": [],
   "source": [
    "def update_P_R_Z(r_j, z_i):\n",
    "    result = 0\n",
    "    for t in range(rating_df.shape[0]):\n",
    "        #rho = get_estep(t, z_i)\n",
    "        rho = estep_table[t][z_i]\n",
    "        if rating_df[t][r_j] != '?':\n",
    "            if rating_df[t][r_j] == '1':\n",
    "                result += rho\n",
    "        else:\n",
    "            #result += rho * get_P_R_Z(t, z_i)\n",
    "            result += rho * probR_df[r_j][z_i]\n",
    "    \n",
    "    return result / (rating_df.shape[0] * update_P_Z(z_i))"
   ]
  },
  {
   "cell_type": "code",
   "execution_count": 175,
   "id": "240d9121",
   "metadata": {},
   "outputs": [],
   "source": [
    "def get_log_likelihood():\n",
    "    result = 0\n",
    "    for t in range(rating_df.shape[0]):\n",
    "        #result += np.log(get_likelihood(t))\n",
    "        result += np.log(likelihood_table[t])\n",
    "    return result / rating_df.shape[0]"
   ]
  },
  {
   "cell_type": "code",
   "execution_count": 176,
   "id": "08e0fa2f",
   "metadata": {
    "scrolled": true
   },
   "outputs": [
    {
     "name": "stdout",
     "output_type": "stream",
     "text": [
      "0 -27.03581500351123\n",
      "1 -17.5604038243144\n",
      "2 -16.002362630627825\n",
      "4 -15.060597317892249\n",
      "8 -14.501649272825004\n",
      "16 -14.263788571437592\n",
      "32 -14.180178075094366\n",
      "64 -14.170077781591056\n",
      "128 -14.163960358152188\n",
      "256 -14.16369243900787\n"
     ]
    }
   ],
   "source": [
    "iterations = [0, 1, 2, 4, 8, 16, 32, 64, 128, 256]\n",
    "for i in range(257):\n",
    "    for t in range(rating_df.shape[0]):\n",
    "        for z in range(probZ_df.shape[0]):\n",
    "            P_R_Z_table[t][z] = get_P_R_Z(t, z)\n",
    "        likelihood_table[t] = get_likelihood(t)\n",
    "        for z in range(probZ_df.shape[0]):\n",
    "            estep_table[t][z] = get_estep(t, z)\n",
    "    \n",
    "    if i in iterations:\n",
    "        print(i, get_log_likelihood())\n",
    "    \n",
    "    for z in range(probZ_df.shape[0]):\n",
    "        probZ_df[z] = update_P_Z(z)\n",
    "    for m in range(probR_df.shape[0]):\n",
    "        for z in range(probR_df.shape[1]):\n",
    "            probR_df[m][z] = update_P_R_Z(m, z)"
   ]
  },
  {
   "cell_type": "markdown",
   "id": "afc5392d",
   "metadata": {},
   "source": [
    "## 8.1 f)"
   ]
  },
  {
   "cell_type": "code",
   "execution_count": 187,
   "id": "072d0a0a",
   "metadata": {},
   "outputs": [],
   "source": [
    "myrating_index = (id_df == 'A59005342').nonzero()[0][0]\n",
    "myratings = rating_df[myrating_index]"
   ]
  },
  {
   "cell_type": "code",
   "execution_count": 194,
   "id": "f1576084",
   "metadata": {},
   "outputs": [
    {
     "name": "stdout",
     "output_type": "stream",
     "text": [
      "Black_Swan 0.8727848959223924\n",
      "Bridemaids 0.8086924623009729\n",
      "Les_Miserables 0.9164247584086622\n",
      "Magic_Mike 0.5611254414894956\n",
      "12_Years_a_Slave 0.874849486233411\n",
      "Fifty_Shades_of_Grey 0.4905191350999009\n",
      "I_Feel_Pretty 0.34538457785655813\n",
      "Chappaquidick 0.9921741329945875\n",
      "La_La_Land 0.8583660461746279\n",
      "Hidden_Figures 0.8861577217506736\n",
      "Phantom_Thread 0.9093209197954123\n",
      "Darkest_Hour 0.9748884119260098\n",
      "The_Lion_King 0.9584398213502858\n",
      "Rocketman 0.6921673559576419\n",
      "Fast_&_Furious:_Hobbs_&_Shaw 0.7068480787561562\n",
      "The_Farewell 0.8947347936947422\n",
      "Hustlers 0.6054760739701981\n"
     ]
    }
   ],
   "source": [
    "for r in range(rating_df.shape[1]):\n",
    "    if rating_df[myrating_index][r] == '?':\n",
    "        prob = 0\n",
    "        for z in range(probZ_df.shape[0]):\n",
    "            prob = prob + (estep_table[myrating_index][z] * probR_df[r][z])\n",
    "        print(movie_df[r], prob)"
   ]
  }
 ],
 "metadata": {
  "kernelspec": {
   "display_name": "Python 3 (ipykernel)",
   "language": "python",
   "name": "python3"
  },
  "language_info": {
   "codemirror_mode": {
    "name": "ipython",
    "version": 3
   },
   "file_extension": ".py",
   "mimetype": "text/x-python",
   "name": "python",
   "nbconvert_exporter": "python",
   "pygments_lexer": "ipython3",
   "version": "3.8.12"
  }
 },
 "nbformat": 4,
 "nbformat_minor": 5
}
